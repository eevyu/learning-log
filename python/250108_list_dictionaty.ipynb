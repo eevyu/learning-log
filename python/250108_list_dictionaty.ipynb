{
 "cells": [
  {
   "cell_type": "markdown",
   "id": "fe32016a-b6ff-4254-83d8-b2c9bd8e8834",
   "metadata": {},
   "source": [
    "### List\n",
    "- 데이터를 **순서대로** 저장하여 활용하고 싶을 때 사용\n",
    "1. 빈 리스트 만들기 : x = [], a = list()\n",
    "2. 리스트에 데이터 추가하기 : 리스트명.append(값)\n",
    "3. 데이터 순서대로 접근하기(indexing) : 리스트명[순서]\n",
    "4. 리스트의 부분 잘라내기(slicing) : 리스트명[a번째부터:b번째 전까지]"
   ]
  },
  {
   "cell_type": "code",
   "execution_count": 6,
   "id": "cbfb8e69-0c04-4cca-b5cc-ae790bc3c215",
   "metadata": {},
   "outputs": [
    {
     "name": "stdout",
     "output_type": "stream",
     "text": [
      "겨울\n",
      "['여름', '가을']\n",
      "['여름', '가을', '겨울']\n"
     ]
    }
   ],
   "source": [
    "seasons = ['봄', '여름', '가을', '겨울']\n",
    "print(seasons[-1])\n",
    "print(seasons[1:3])\n",
    "print(seasons[1:])"
   ]
  },
  {
   "cell_type": "markdown",
   "id": "e784f112-3a9b-440d-8d90-33363e437400",
   "metadata": {},
   "source": [
    "### Dict\n",
    "- **유일한 key**와 **value**를 **쌍**으로 저장 (값은 데이터 집합 내에서 유일하지 않을 수 있음)\n",
    "1. 빈 딕셔너리 만들기 : x = {}, a = dict()\n",
    "2. 데이터가 있는 딕셔너리 만들기 : size = {'S':90, 'M':95, 'L':100}\n",
    "3. 딕셔너리에 데이터 추가하기 : 딕셔너리명[키] = 값 ex) size['XL'] = 110\n",
    "4. 딕셔너리에 저장된 데이터에 접근하기 : 딕셔너리명[키] ex) size['S']"
   ]
  },
  {
   "cell_type": "code",
   "execution_count": 7,
   "id": "528bdde0-95ea-4596-aeac-1351ce81bfdd",
   "metadata": {},
   "outputs": [
    {
     "name": "stdout",
     "output_type": "stream",
     "text": [
      "['피자', '치킨버거', '망고빙수', '떡볶이']\n"
     ]
    }
   ],
   "source": [
    "# 오늘 뭐 먹지? 리스트 만들기\n",
    "menu = ['피자', '치킨버거', '망고빙수']\n",
    "menu.append('떡볶이')\n",
    "print(menu)"
   ]
  },
  {
   "cell_type": "code",
   "execution_count": 28,
   "id": "0a9c31f7-61cb-4eec-9ef9-5cbd634d1831",
   "metadata": {},
   "outputs": [
    {
     "name": "stdout",
     "output_type": "stream",
     "text": [
      "피자\n",
      "떡볶이\n",
      "2.0\n",
      "치킨버거 망고빙수\n"
     ]
    }
   ],
   "source": [
    "# 맨 앞의 메뉴, 맨 뒤 메뉴, 중간 메뉴 잘라서 출력해보기\n",
    "print(menu[0])\n",
    "print(menu[-1])\n",
    "mid = len(menu)/2\n",
    "print(mid)\n",
    "if(mid % 2 == 0):\n",
    "    print(menu[int(mid)-1], menu[int(mid)])"
   ]
  },
  {
   "cell_type": "code",
   "execution_count": 12,
   "id": "c14fbb10-c1b6-4d47-afff-07b4cb0009a2",
   "metadata": {},
   "outputs": [
    {
     "name": "stdout",
     "output_type": "stream",
     "text": [
      "피카츄! 왔나요?\n",
      "라이츄! 왔나요?\n",
      "파이리! 왔나요?\n",
      "꼬부기! 왔나요?\n",
      "잠만보! 왔나요?\n"
     ]
    }
   ],
   "source": [
    "# 학생들의 이름이 저장된 리스트를 활용해 출석 확인하기\n",
    "\n",
    "# 1) 출석부 리스트 준비\n",
    "# 2) 이름 출력\n",
    "# 3) 모든 리스트에 저장된 이름에 대해서 반복\n",
    "\n",
    "names = ['피카츄', '라이츄', '파이리', '꼬부기']\n",
    "names.append('잠만보')\n",
    "for name in names :\n",
    "    print(name + '! 왔나요?')"
   ]
  },
  {
   "cell_type": "code",
   "execution_count": 30,
   "id": "bedb1ee6-194f-426c-b91e-899bcc4e3737",
   "metadata": {},
   "outputs": [
    {
     "name": "stdin",
     "output_type": "stream",
     "text": [
      "먹고 싶은 메뉴를 말씀해주세요. :  딸기빙수\n"
     ]
    },
    {
     "name": "stdout",
     "output_type": "stream",
     "text": [
      "12000원 입니다!\n"
     ]
    }
   ],
   "source": [
    "# 입력한 메뉴의 가격을 알려주는 프로그램 만들기\n",
    "\n",
    "# 1) 메뉴와 값이 저장된 리스트 준비\n",
    "# 2) 메뉴 입력받기\n",
    "# 3) 입력받은 메뉴와 기존 메뉴 리스트에 저장된 메뉴를 비교\n",
    "# 4) 만약 일치할 경우, 메뉴의 위치에 해당하는 값 리스트 출력\n",
    "\n",
    "menu2 = ['망고빙수', '딸기빙수', '눈꽃빙수']\n",
    "price = [10000, 12000, 13500]\n",
    "\n",
    "item = input('먹고 싶은 메뉴를 말씀해주세요. : ')\n",
    "for i in range(len(menu2)) :\n",
    "    if item == menu2[i] :\n",
    "        print(str(price[i]) + '원 입니다!')"
   ]
  },
  {
   "cell_type": "code",
   "execution_count": 34,
   "id": "cf715463-05bf-43f3-b0cc-7c27d8323c28",
   "metadata": {},
   "outputs": [
    {
     "name": "stdin",
     "output_type": "stream",
     "text": [
      "먹고 싶은 메뉴를 말씀해주세요. :  초코빙수\n"
     ]
    },
    {
     "name": "stdout",
     "output_type": "stream",
     "text": [
      "11000원 입니다!\n"
     ]
    }
   ],
   "source": [
    "# 위 문제를 딕셔너리를 활용하여 다시 만들어보기\n",
    "\n",
    "# 1) 메뉴 딕셔너리 준비\n",
    "# 2) 메뉴 입력받기\n",
    "# 3) 입력받은 메뉴를 키로 하는 값 출력\n",
    "\n",
    "menu3 = {'망고빙수':10000, '딸기빙수':12000, '눈꽃빙수':13500}\n",
    "menu3['초코빙수'] = 11000\n",
    "\n",
    "item = input('먹고 싶은 메뉴를 말씀해주세요. : ')\n",
    "print(str(menu3[item]) + '원 입니다!')"
   ]
  }
 ],
 "metadata": {
  "kernelspec": {
   "display_name": "Python 3 (ipykernel)",
   "language": "python",
   "name": "python3"
  },
  "language_info": {
   "codemirror_mode": {
    "name": "ipython",
    "version": 3
   },
   "file_extension": ".py",
   "mimetype": "text/x-python",
   "name": "python",
   "nbconvert_exporter": "python",
   "pygments_lexer": "ipython3",
   "version": "3.12.4"
  }
 },
 "nbformat": 4,
 "nbformat_minor": 5
}
